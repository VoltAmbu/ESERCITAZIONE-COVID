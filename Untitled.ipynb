{
 "cells": [
  {
   "cell_type": "code",
   "execution_count": 3,
   "metadata": {},
   "outputs": [],
   "source": [
    "import matplotlib.pyplot as plt\n",
    "import numpy as np\n",
    "import pandas as pd\n",
    "import math\n",
    "\n",
    "df = pd.read_csv(\"regioni.csv\")\n",
    "A = df[\"denominazione_regione\"]\n",
    "N = df[\"nuovi_positivi\"]\n",
    "D = df[\"data\"]\n",
    "\n",
    "X =[]\n",
    "Y =[]\n",
    "Z =[]\n",
    "for i in range(len(A)):\n",
    "    if A[i] == 'Friuli Venezia Giulia':\n",
    "        X.append(D[i])\n",
    "        Y.append(N[i]) \n",
    "        Z.append(sum(Y))   \n",
    "\n",
    "\n",
    "for i in range(len(X)):\n",
    "    X[i] = 1 + i\n",
    "    \n",
    "\n",
    "#plt.plot(X,Z)\n",
    "#plt.show()\n",
    "#In questo grafico possiamo vedere il numero totale di contagi in funzione del tempo, ottenuto andando\n",
    "#a sommare i nuovi contagi in regione presenti nel dataset"
   ]
  },
  {
   "cell_type": "code",
   "execution_count": 67,
   "metadata": {},
   "outputs": [],
   "source": [
    "def gompertz(N_tot,k,t_0):\n",
    "   \n",
    "    t=X\n",
    "    N1 = [0]*len(t)\n",
    "    for i in range(len(t)):\n",
    "        N1[i] = N_tot*math.exp(-np.log(N_tot)*math.exp(-k*(t[i]-t_0)))\n",
    "    \n",
    "    return N1\n",
    "\n",
    "#Come esempio possiamo caratterizzare l'asse temporale e fornire parametri casuali.\n",
    "\n",
    "#x = np.linspace(0,1452,1453)     #numero di giorni di cui ho i dati da catalogi \n",
    "#y = gompertz(10000,0.52,100,X)  #parametri scelti casualmente\n",
    "#plt.plot(x,y)\n",
    "#plt.show()\n",
    "\n",
    "#Con questa funzione andiamo a stimare i nuovi contagi per il giorno \n",
    "#seguente facendo riferimento al modello di Gompertz\n",
    "\n",
    "def differenza(y):\n",
    "    \n",
    "    diff = [0]*len(y)\n",
    "    \n",
    "    for i in range(len(y)):\n",
    "        diff[i] = y[i] - y[i-1]\n",
    "\n",
    "    return diff\n",
    "\n",
    "#print(\"Si stimano\",diff, \"nuovi contagi per il giorno\",p+1,\"in regione\")\n",
    "    \n",
    "#differenza(y)\n",
    "\n",
    "#Chiaramente vediamo dall'andamento della funzione come siano impattanti i parametri.\n",
    "#Il parametro k fa cambiare la ripidità del gradino(maggiore è k e maggiore sarà la pendenza\n",
    "#della risalita della curva) mentre il parametro t_0 sposta il gradino a dx o sx(maggiore è\n",
    "#t_0 e più a dx sarà il gradino, ovviamente)."
   ]
  },
  {
   "cell_type": "markdown",
   "metadata": {},
   "source": [
    "Possiamo cercare di confrontare l'andamento dei contagi registrato nel dataset con quello previsto dal modello,\n",
    "andando così ad effettuare una prima stima(molto grossolana) dei parametri in grado di riprodurre al meglio i dati osservati.\n",
    "Andando a confrontare i modelli a mano si può ottenere che:"
   ]
  },
  {
   "cell_type": "code",
   "execution_count": 29,
   "metadata": {},
   "outputs": [
    {
     "data": {
      "image/png": "[encoded data removed]",
      "text/plain": [
       "<Figure size 432x288 with 1 Axes>"
      ]
     },
     "metadata": {
      "needs_background": "light"
     },
     "output_type": "display_data"
    }
   ],
   "source": [
    "#x = np.linspace(0,1452,1453)   \n",
    "#y = gompertz(600000,0.0055,180,x)  \n",
    "#plt.plot(x,y)\n",
    "#plt.plot(X,Z)\n",
    "#plt.show()"
   ]
  },
  {
   "cell_type": "markdown",
   "metadata": {},
   "source": [
    "Andiamo a specializzare il nostro modello in una regione specifica. Qui sono andato a scegliere il FVG andando a considerare i primi 35 giorni di epidemia.\n",
    "Vado a scegliere i giorni di riferimento partendo dal 30 marzo 2020, associando il relativo numero di nuovi contagi grazie a ciò che posso ottenere dalla distribuzione di Gompertz.\n"
   ]
  },
  {
   "cell_type": "code",
   "execution_count": 116,
   "metadata": {},
   "outputs": [
    {
     "name": "stdout",
     "output_type": "stream",
     "text": [
      "-1473.9306522052843\n"
     ]
    },
    {
     "data": {
      "image/png": "[encoded data removed]",
      "text/plain": [
       "<Figure size 432x288 with 1 Axes>"
      ]
     },
     "metadata": {
      "needs_background": "light"
     },
     "output_type": "display_data"
    }
   ],
   "source": [
    "\n",
    "#XX =[]  \n",
    "#YY =[]\n",
    "#XX = X[35:70] #giorni relativi alla prima ondata\n",
    "#YY = Y[35:70] #nuovi contagi dei rispettivi giorni da dataset\n",
    "\n",
    "#Specializziamo il modello in modo da rappresentare la prima ondata epidemica, cercando quindi dei parametri\n",
    "#in grado di riprodurre la prima risalita.\n",
    "\n",
    "\n",
    "y = gompertz(3200,0.08,6)  \n",
    "diff=differenza(y)\n",
    "\n",
    "#Andiamo a definire un likelihood, concentrandosi nel periodo di giorni di riferimento\n",
    "\n",
    "def logl(y,diff):\n",
    "    P = [0]*35\n",
    "    L = [0]*35\n",
    "    for i in range(len(P)):\n",
    "        P[i] = math.exp(-diff[i+35])*diff[i+35]\n",
    "        L[i] = np.log(P[i])\n",
    "    return np.sum(L)\n",
    "\n",
    "print(logl(y,diff))\n",
    "\n",
    "plt.plot(X,y)\n",
    "plt.xlim([0,70])\n",
    "plt.ylim([0,3500])\n",
    "plt.plot(X,Z)\n",
    "plt.show()"
   ]
  },
  {
   "cell_type": "code",
   "execution_count": null,
   "metadata": {},
   "outputs": [],
   "source": []
  },
  {
   "cell_type": "code",
   "execution_count": null,
   "metadata": {},
   "outputs": [],
   "source": []
  },
  {
   "cell_type": "code",
   "execution_count": null,
   "metadata": {},
   "outputs": [],
   "source": []
  }
 ],
 "metadata": {
  "kernelspec": {
   "display_name": "Python 3",
   "language": "python",
   "name": "python3"
  },
  "language_info": {
   "codemirror_mode": {
    "name": "ipython",
    "version": 3
   },
   "file_extension": ".py",
   "mimetype": "text/x-python",
   "name": "python",
   "nbconvert_exporter": "python",
   "pygments_lexer": "ipython3",
   "version": "3.8.10"
  }
 },
 "nbformat": 4,
 "nbformat_minor": 4
}
